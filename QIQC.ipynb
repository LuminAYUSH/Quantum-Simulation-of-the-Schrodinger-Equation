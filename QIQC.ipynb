{
 "cells": [
  {
   "cell_type": "code",
   "execution_count": 9,
   "metadata": {},
   "outputs": [],
   "source": [
    "import qiskit"
   ]
  },
  {
   "cell_type": "code",
   "execution_count": 10,
   "metadata": {},
   "outputs": [],
   "source": [
    "# simulation of Shrodinger equation for infinite square well potential in 1D on a Quantum Computer\n",
    "# using Qiskit\n",
    "\n",
    "import numpy as np\n",
    "import matplotlib.pyplot as plt\n",
    "#from qiskit import QuantumCircuit, Aer, execute\n",
    "from qiskit.visualization import plot_histogram\n",
    "from qiskit.providers.aer import AerSimulator\n",
    "from qiskit.providers.aer.noise import NoiseModel\n",
    "from qiskit.providers.aer.noise.errors.standard_errors import depolarizing_error\n",
    "from qiskit.providers.aer.noise.errors.standard_errors import thermal_relaxation_error\n",
    "from qiskit.providers.aer.noise import NoiseModel\n",
    "from qiskit.providers.aer import AerSimulator\n",
    "from qiskit.providers.aer.noise import NoiseModel"
   ]
  },
  {
   "cell_type": "code",
   "execution_count": 11,
   "metadata": {},
   "outputs": [],
   "source": [
    "# Now we will define the parameters of the simulation\n",
    "# Number of qubits\n",
    "n = 4\n",
    "# Number of time steps\n",
    "time_steps = 100\n",
    "# Time step\n",
    "dt = 0.01\n",
    "# Number of Trotter steps\n",
    "trotter_steps = 1\n",
    "# Number of shots\n",
    "shots = 1000"
   ]
  },
  {
   "cell_type": "code",
   "execution_count": 12,
   "metadata": {},
   "outputs": [],
   "source": [
    "# Now we will define the potential energy function\n",
    "def potential(x):\n",
    "    if x < 0 or x > 1:\n",
    "        return 1e10\n",
    "    else:\n",
    "        return 0\n",
    "    \n",
    "# Now we will define the kinetic energy function\n",
    "def kinetic(p):\n",
    "    return p**2"
   ]
  },
  {
   "cell_type": "code",
   "execution_count": 13,
   "metadata": {},
   "outputs": [],
   "source": [
    "# Now we will define the initial state\n",
    "def initial_state(x):\n",
    "    if x < 0.5:\n",
    "        return 1\n",
    "    else:\n",
    "        return 0"
   ]
  },
  {
   "cell_type": "code",
   "execution_count": 14,
   "metadata": {},
   "outputs": [],
   "source": [
    "# Now we will define the quantum circuit\n",
    "def quantum_circuit(x, p):\n",
    "    qc = qiskit.QuantumCircuit(n)\n",
    "    qc.h(0)\n",
    "    qc.h(1)\n",
    "    qc.h(2)\n",
    "    qc.h(3)\n",
    "    qc.barrier()\n",
    "    for i in range(n):\n",
    "        qc.rz(x*dt*p/(2*trotter_steps), i)\n",
    "    for i in range(n):\n",
    "        qc.rx(x*dt/(2*trotter_steps), i)\n",
    "    for i in range(n):\n",
    "        qc.rz(x*dt*p/(2*trotter_steps), i)\n",
    "    qc.barrier()\n",
    "    for i in range(n):\n",
    "        qc.h(i)\n",
    "    qc.barrier()\n",
    "    return qc\n",
    "\n",
    "# Now we will define the quantum circuit for the potential energy\n",
    "def quantum_circuit_potential(x):\n",
    "    qc = qiskit.QuantumCircuit(n)\n",
    "    qc.h(0)\n",
    "    qc.h(1)\n",
    "    qc.h(2)\n",
    "    qc.h(3)\n",
    "    qc.barrier()\n",
    "    for i in range(n):\n",
    "        qc.rz(x*dt/(2*trotter_steps), i)\n",
    "    for i in range(n):\n",
    "        qc.rx(x*dt/(2*trotter_steps), i)\n",
    "    for i in range(n):\n",
    "        qc.rz(x*dt/(2*trotter_steps), i)\n",
    "    qc.barrier()\n",
    "    for i in range(n):\n",
    "        qc.h(i)\n",
    "    qc.barrier()\n",
    "    return qc\n",
    "\n",
    "# Now we will define the quantum circuit for the kinetic energy\n",
    "def quantum_circuit_kinetic(p):\n",
    "    qc = qiskit.QuantumCircuit(n)\n",
    "    qc.h(0)\n",
    "    qc.h(1)\n",
    "    qc.h(2)\n",
    "    qc.h(3)\n",
    "    qc.barrier()\n",
    "    for i in range(n):\n",
    "        qc.rz(p*dt/(2*trotter_steps), i)\n",
    "    for i in range(n):\n",
    "        qc.rx(p*dt/(2*trotter_steps), i)\n",
    "    for i in range(n):\n",
    "        qc.rz(p*dt/(2*trotter_steps), i)\n",
    "    qc.barrier()\n",
    "    for i in range(n):\n",
    "        qc.h(i)\n",
    "    qc.barrier()\n",
    "    return qc\n"
   ]
  },
  {
   "cell_type": "code",
   "execution_count": 15,
   "metadata": {},
   "outputs": [],
   "source": [
    "# Now we will define the quantum circuit for the time evolution\n",
    "def quantum_circuit_time_evolution(x, p):\n",
    "    qc = quantum_circuit(x, p)\n",
    "    qc = qc + quantum_circuit_potential(x)\n",
    "    qc = qc + quantum_circuit_kinetic(p)\n",
    "    return qc\n",
    "\n"
   ]
  },
  {
   "cell_type": "code",
   "execution_count": 17,
   "metadata": {},
   "outputs": [
    {
     "name": "stderr",
     "output_type": "stream",
     "text": [
      "c:\\Users\\Lumin\\anaconda3\\envs\\qc\\lib\\site-packages\\qiskit\\providers\\aer\\noise\\errors\\quantum_error.py:544: DeprecationWarning: `product` is deprecated as of NumPy 1.25.0, and will be removed in NumPy 2.0. Please use `prod` instead.\n",
      "  choi_sum = choi_sum + prob * iden.compose(Kraus(instr['params']),\n",
      "WARNING: all-qubit error already exists for instruction \"u1\", composing with additional error.\n",
      "WARNING: all-qubit error already exists for instruction \"u2\", composing with additional error.\n",
      "WARNING: all-qubit error already exists for instruction \"u3\", composing with additional error.\n"
     ]
    }
   ],
   "source": [
    "#Now simulate the quantum circuit\n",
    "# Initialize the quantum circuit\n",
    "qc = qiskit.QuantumCircuit(n)\n",
    "\n",
    "# Initialize the quantum simulator\n",
    "simulator = AerSimulator()\n",
    "\n",
    "# Initialize the noise model\n",
    "noise_model = NoiseModel()\n",
    "\n",
    "# Define depolarizing error\n",
    "error = depolarizing_error(0.01, 1)\n",
    "\n",
    "# Add depolarizing error to noise model\n",
    "noise_model.add_all_qubit_quantum_error(error, ['u1', 'u2', 'u3'])\n",
    "\n",
    "# Define thermal relaxation error\n",
    "T1 = 100\n",
    "T2 = 120\n",
    "error = thermal_relaxation_error(T1, T2, dt)\n",
    "\n",
    "# Add thermal relaxation error to noise model\n",
    "noise_model.add_all_qubit_quantum_error(error, ['u1', 'u2', 'u3'])\n"
   ]
  },
  {
   "cell_type": "code",
   "execution_count": 18,
   "metadata": {},
   "outputs": [
    {
     "name": "stderr",
     "output_type": "stream",
     "text": [
      "C:\\Users\\Lumin\\AppData\\Local\\Temp\\ipykernel_17956\\2635344116.py:4: DeprecationWarning: The QuantumCircuit.__add__() method is being deprecated.Use the compose() method which is more flexible w.r.t circuit register compatibility.\n",
      "  qc = qc + quantum_circuit_potential(x)\n",
      "c:\\Users\\Lumin\\anaconda3\\envs\\qc\\lib\\site-packages\\qiskit\\circuit\\quantumcircuit.py:933: DeprecationWarning: The QuantumCircuit.combine() method is being deprecated. Use the compose() method which is more flexible w.r.t circuit register compatibility.\n",
      "  return self.combine(rhs)\n"
     ]
    },
    {
     "ename": "QiskitError",
     "evalue": "'No counts for experiment \"<qiskit.circuit.quantumcircuit.QuantumCircuit object at 0x0000022D3B9CEE20>\"'",
     "output_type": "error",
     "traceback": [
      "\u001b[1;31m---------------------------------------------------------------------------\u001b[0m",
      "\u001b[1;31mQiskitError\u001b[0m                               Traceback (most recent call last)",
      "Cell \u001b[1;32mIn[18], line 6\u001b[0m\n\u001b[0;32m      4\u001b[0m qc \u001b[38;5;241m=\u001b[39m quantum_circuit_time_evolution(x, p)\n\u001b[0;32m      5\u001b[0m result \u001b[38;5;241m=\u001b[39m qiskit\u001b[38;5;241m.\u001b[39mexecute(qc, simulator, noise_model\u001b[38;5;241m=\u001b[39mnoise_model, shots\u001b[38;5;241m=\u001b[39mshots)\u001b[38;5;241m.\u001b[39mresult()\n\u001b[1;32m----> 6\u001b[0m counts \u001b[38;5;241m=\u001b[39m \u001b[43mresult\u001b[49m\u001b[38;5;241;43m.\u001b[39;49m\u001b[43mget_counts\u001b[49m\u001b[43m(\u001b[49m\u001b[43mqc\u001b[49m\u001b[43m)\u001b[49m\n\u001b[0;32m      7\u001b[0m \u001b[38;5;28mprint\u001b[39m(counts)\n\u001b[0;32m      8\u001b[0m plt\u001b[38;5;241m.\u001b[39mplot(counts)\n",
      "File \u001b[1;32mc:\\Users\\Lumin\\anaconda3\\envs\\qc\\lib\\site-packages\\qiskit\\result\\result.py:300\u001b[0m, in \u001b[0;36mResult.get_counts\u001b[1;34m(self, experiment)\u001b[0m\n\u001b[0;32m    298\u001b[0m         dict_list\u001b[38;5;241m.\u001b[39mappend(statevector\u001b[38;5;241m.\u001b[39mStatevector(vec)\u001b[38;5;241m.\u001b[39mprobabilities_dict(decimals\u001b[38;5;241m=\u001b[39m\u001b[38;5;241m15\u001b[39m))\n\u001b[0;32m    299\u001b[0m     \u001b[38;5;28;01melse\u001b[39;00m:\n\u001b[1;32m--> 300\u001b[0m         \u001b[38;5;28;01mraise\u001b[39;00m QiskitError(\u001b[38;5;124mf\u001b[39m\u001b[38;5;124m'\u001b[39m\u001b[38;5;124mNo counts for experiment \u001b[39m\u001b[38;5;124m\"\u001b[39m\u001b[38;5;132;01m{\u001b[39;00m\u001b[38;5;28mrepr\u001b[39m(key)\u001b[38;5;132;01m}\u001b[39;00m\u001b[38;5;124m\"\u001b[39m\u001b[38;5;124m'\u001b[39m)\n\u001b[0;32m    302\u001b[0m \u001b[38;5;66;03m# Return first item of dict_list if size is 1\u001b[39;00m\n\u001b[0;32m    303\u001b[0m \u001b[38;5;28;01mif\u001b[39;00m \u001b[38;5;28mlen\u001b[39m(dict_list) \u001b[38;5;241m==\u001b[39m \u001b[38;5;241m1\u001b[39m:\n",
      "\u001b[1;31mQiskitError\u001b[0m: 'No counts for experiment \"<qiskit.circuit.quantumcircuit.QuantumCircuit object at 0x0000022D3B9CEE20>\"'"
     ]
    }
   ],
   "source": [
    "# now we will simulate the quantum circuit\n",
    "for x in range(time_steps):\n",
    "    for p in range(time_steps):\n",
    "        qc = quantum_circuit_time_evolution(x, p)\n",
    "        result = qiskit.execute(qc, simulator, noise_model=noise_model, shots=shots).result()\n",
    "        counts = result.get_counts(qc)\n",
    "        print(counts)\n",
    "        plt.plot(counts)\n",
    "        plt.show()\n",
    "        plot_histogram(counts)\n",
    "        plt.show()\n",
    "        \n",
    "        "
   ]
  },
  {
   "cell_type": "code",
   "execution_count": null,
   "metadata": {},
   "outputs": [],
   "source": []
  }
 ],
 "metadata": {
  "kernelspec": {
   "display_name": "qiqc",
   "language": "python",
   "name": "python3"
  },
  "language_info": {
   "codemirror_mode": {
    "name": "ipython",
    "version": 3
   },
   "file_extension": ".py",
   "mimetype": "text/x-python",
   "name": "python",
   "nbconvert_exporter": "python",
   "pygments_lexer": "ipython3",
   "version": "3.9.2"
  }
 },
 "nbformat": 4,
 "nbformat_minor": 2
}
